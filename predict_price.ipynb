{
 "cells": [
  {
   "cell_type": "code",
   "execution_count": 14,
   "metadata": {},
   "outputs": [],
   "source": [
    "import matplotlib.pyplot as plt\n",
    "import pandas as pd\n",
    "from sklearn import linear_model\n",
    "from sklearn import datasets\n",
    "from sklearn.feature_selection import SelectFromModel\n",
    "from sklearn.ensemble import RandomForestRegressor\n",
    "from yellowbrick.target import FeatureCorrelation\n",
    "from sklearn.model_selection import ShuffleSplit\n",
    "from sklearn.tree import DecisionTreeRegressor\n",
    "import seaborn as sns\n",
    "from datetime import datetime"
   ]
  },
  {
   "cell_type": "code",
   "execution_count": 36,
   "metadata": {},
   "outputs": [
    {
     "data": {
      "text/html": [
       "<div>\n",
       "<style scoped>\n",
       "    .dataframe tbody tr th:only-of-type {\n",
       "        vertical-align: middle;\n",
       "    }\n",
       "\n",
       "    .dataframe tbody tr th {\n",
       "        vertical-align: top;\n",
       "    }\n",
       "\n",
       "    .dataframe thead th {\n",
       "        text-align: right;\n",
       "    }\n",
       "</style>\n",
       "<table border=\"1\" class=\"dataframe\">\n",
       "  <thead>\n",
       "    <tr style=\"text-align: right;\">\n",
       "      <th></th>\n",
       "      <th>price</th>\n",
       "      <th>release_date</th>\n",
       "      <th>length</th>\n",
       "      <th>rating_overall</th>\n",
       "      <th>rating_performance</th>\n",
       "      <th>rating_story</th>\n",
       "    </tr>\n",
       "  </thead>\n",
       "  <tbody>\n",
       "    <tr>\n",
       "      <th>0</th>\n",
       "      <td>25.51</td>\n",
       "      <td>1.667257e+09</td>\n",
       "      <td>529</td>\n",
       "      <td>4.6</td>\n",
       "      <td>4.7</td>\n",
       "      <td>4.6</td>\n",
       "    </tr>\n",
       "    <tr>\n",
       "      <th>1</th>\n",
       "      <td>23.62</td>\n",
       "      <td>1.666044e+09</td>\n",
       "      <td>521</td>\n",
       "      <td>4.7</td>\n",
       "      <td>4.8</td>\n",
       "      <td>4.6</td>\n",
       "    </tr>\n",
       "    <tr>\n",
       "      <th>2</th>\n",
       "      <td>26.90</td>\n",
       "      <td>1.662415e+09</td>\n",
       "      <td>1446</td>\n",
       "      <td>4.8</td>\n",
       "      <td>4.9</td>\n",
       "      <td>4.7</td>\n",
       "    </tr>\n",
       "    <tr>\n",
       "      <th>3</th>\n",
       "      <td>13.99</td>\n",
       "      <td>1.659996e+09</td>\n",
       "      <td>386</td>\n",
       "      <td>4.9</td>\n",
       "      <td>4.9</td>\n",
       "      <td>4.9</td>\n",
       "    </tr>\n",
       "    <tr>\n",
       "      <th>4</th>\n",
       "      <td>35.00</td>\n",
       "      <td>1.666044e+09</td>\n",
       "      <td>1042</td>\n",
       "      <td>4.6</td>\n",
       "      <td>4.7</td>\n",
       "      <td>4.5</td>\n",
       "    </tr>\n",
       "    <tr>\n",
       "      <th>...</th>\n",
       "      <td>...</td>\n",
       "      <td>...</td>\n",
       "      <td>...</td>\n",
       "      <td>...</td>\n",
       "      <td>...</td>\n",
       "      <td>...</td>\n",
       "    </tr>\n",
       "    <tr>\n",
       "      <th>1158</th>\n",
       "      <td>59.99</td>\n",
       "      <td>1.654553e+09</td>\n",
       "      <td>1220</td>\n",
       "      <td>4.9</td>\n",
       "      <td>5.0</td>\n",
       "      <td>4.8</td>\n",
       "    </tr>\n",
       "    <tr>\n",
       "      <th>1159</th>\n",
       "      <td>23.90</td>\n",
       "      <td>1.605568e+09</td>\n",
       "      <td>487</td>\n",
       "      <td>4.6</td>\n",
       "      <td>4.6</td>\n",
       "      <td>4.6</td>\n",
       "    </tr>\n",
       "    <tr>\n",
       "      <th>1160</th>\n",
       "      <td>24.90</td>\n",
       "      <td>1.569276e+09</td>\n",
       "      <td>593</td>\n",
       "      <td>4.6</td>\n",
       "      <td>4.9</td>\n",
       "      <td>4.6</td>\n",
       "    </tr>\n",
       "    <tr>\n",
       "      <th>1161</th>\n",
       "      <td>17.92</td>\n",
       "      <td>1.600121e+09</td>\n",
       "      <td>591</td>\n",
       "      <td>4.4</td>\n",
       "      <td>4.6</td>\n",
       "      <td>4.3</td>\n",
       "    </tr>\n",
       "    <tr>\n",
       "      <th>1162</th>\n",
       "      <td>29.95</td>\n",
       "      <td>1.637017e+09</td>\n",
       "      <td>1640</td>\n",
       "      <td>4.9</td>\n",
       "      <td>4.6</td>\n",
       "      <td>4.9</td>\n",
       "    </tr>\n",
       "  </tbody>\n",
       "</table>\n",
       "<p>1163 rows × 6 columns</p>\n",
       "</div>"
      ],
      "text/plain": [
       "      price  release_date  length  rating_overall  rating_performance  \\\n",
       "0     25.51  1.667257e+09     529             4.6                 4.7   \n",
       "1     23.62  1.666044e+09     521             4.7                 4.8   \n",
       "2     26.90  1.662415e+09    1446             4.8                 4.9   \n",
       "3     13.99  1.659996e+09     386             4.9                 4.9   \n",
       "4     35.00  1.666044e+09    1042             4.6                 4.7   \n",
       "...     ...           ...     ...             ...                 ...   \n",
       "1158  59.99  1.654553e+09    1220             4.9                 5.0   \n",
       "1159  23.90  1.605568e+09     487             4.6                 4.6   \n",
       "1160  24.90  1.569276e+09     593             4.6                 4.9   \n",
       "1161  17.92  1.600121e+09     591             4.4                 4.6   \n",
       "1162  29.95  1.637017e+09    1640             4.9                 4.6   \n",
       "\n",
       "      rating_story  \n",
       "0              4.6  \n",
       "1              4.6  \n",
       "2              4.7  \n",
       "3              4.9  \n",
       "4              4.5  \n",
       "...            ...  \n",
       "1158           4.8  \n",
       "1159           4.6  \n",
       "1160           4.6  \n",
       "1161           4.3  \n",
       "1162           4.9  \n",
       "\n",
       "[1163 rows x 6 columns]"
      ]
     },
     "execution_count": 36,
     "metadata": {},
     "output_type": "execute_result"
    }
   ],
   "source": [
    "df_1 = pd.read_csv(\".\\\\audiobooks.csv\")\n",
    "df_2 = pd.read_csv(\".\\\\audiobooks_2.csv\")\n",
    "df = df_1.merge(df_2, on='audiobook_id')\n",
    "df = df[['price', 'release_date', 'length', 'rating_overall', 'rating_performance', 'rating_story']].dropna()\n",
    "\n",
    "def convert_time(time_str):\n",
    "    year = time_str[-2:]\n",
    "    time_str = time_str[:-2] + '20' + year\n",
    "    date_time = datetime.strptime(time_str, '%m-%d-%Y')\n",
    "    return date_time.timestamp()\n",
    "\n",
    "def convert_duration(length):\n",
    "    # 9 hrs and 15 mins\n",
    "    \n",
    "    if 'hrs' in length:\n",
    "        hours = length.split('hrs')[0].strip() # 9\n",
    "    else:\n",
    "        hours = length.split('hr')[0].strip() # 9\n",
    "    if 'mins' in length:\n",
    "        minutes = length[:-5].split(' ')[-1] # 15\n",
    "        time = int(hours)*60 + int(minutes)\n",
    "    else:\n",
    "        time = int(hours)*60\n",
    "    return time\n",
    "\n",
    "df['release_date'] = df['release_date'].apply(convert_time)\n",
    "df['length'] = df['length'].apply(convert_duration)\n",
    "df['price'] = df['price'].apply(lambda s : float(s[1:]))\n",
    "df"
   ]
  },
  {
   "attachments": {},
   "cell_type": "markdown",
   "metadata": {},
   "source": [
    "Določimo s katerimi featurji bomo delali."
   ]
  },
  {
   "cell_type": "code",
   "execution_count": 55,
   "metadata": {},
   "outputs": [
    {
     "data": {
      "text/plain": [
       "array(['release_date', 'length'], dtype=object)"
      ]
     },
     "execution_count": 55,
     "metadata": {},
     "output_type": "execute_result"
    }
   ],
   "source": [
    "X, y = df.drop([\"price\"], axis=1), df[\"price\"]\n",
    "selector = SelectFromModel(estimator=RandomForestRegressor()).fit(X, y)\n",
    "selector.get_feature_names_out()"
   ]
  },
  {
   "attachments": {},
   "cell_type": "markdown",
   "metadata": {},
   "source": [
    "Uporabili bomo random forest regressor od sklearn."
   ]
  },
  {
   "cell_type": "code",
   "execution_count": 56,
   "metadata": {},
   "outputs": [],
   "source": [
    "ss = ShuffleSplit(n_splits=5, random_state=0)\n",
    "def average_score(scores, n):\n",
    "    ''' average in list, only last n values '''\n",
    "    s=0\n",
    "    for i in range(n):\n",
    "        s+=scores[-(i+1)]\n",
    "    return s/n\n",
    "#X = df[['length', 'release_date']]\n",
    "def RandomForestRegression():\n",
    "    model = RandomForestRegressor(max_depth=4, random_state=0)\n",
    "    \n",
    "    Scores = []\n",
    "    for train_index, test_index in ss.split(X, y):\n",
    "        X_train, X_test = X.iloc[train_index], X.iloc[test_index]\n",
    "        y_train, y_test = y.iloc[train_index], y.iloc[test_index]\n",
    "        model.fit(X_train, y_train)\n",
    "        \n",
    "        score = model.score(X_test, y_test)\n",
    "        Scores.append(score)\n",
    "    return Scores"
   ]
  },
  {
   "cell_type": "code",
   "execution_count": 57,
   "metadata": {},
   "outputs": [
    {
     "data": {
      "text/plain": [
       "[0.4037820028063538,\n",
       " 0.5277845618139929,\n",
       " 0.5238792349261208,\n",
       " 0.5292778690035328,\n",
       " 0.4911498221395837]"
      ]
     },
     "execution_count": 57,
     "metadata": {},
     "output_type": "execute_result"
    }
   ],
   "source": [
    "RandomForestRegression()"
   ]
  },
  {
   "cell_type": "code",
   "execution_count": null,
   "metadata": {},
   "outputs": [],
   "source": []
  }
 ],
 "metadata": {
  "kernelspec": {
   "display_name": "base",
   "language": "python",
   "name": "python3"
  },
  "language_info": {
   "codemirror_mode": {
    "name": "ipython",
    "version": 3
   },
   "file_extension": ".py",
   "mimetype": "text/x-python",
   "name": "python",
   "nbconvert_exporter": "python",
   "pygments_lexer": "ipython3",
   "version": "3.9.7"
  },
  "orig_nbformat": 4,
  "vscode": {
   "interpreter": {
    "hash": "722609cc5c12623cd87340fba0d40d998005e6f79e68779b6429c51a32666f3f"
   }
  }
 },
 "nbformat": 4,
 "nbformat_minor": 2
}
