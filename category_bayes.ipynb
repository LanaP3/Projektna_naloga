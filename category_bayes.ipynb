{
 "cells": [
  {
   "cell_type": "code",
   "execution_count": 42,
   "metadata": {},
   "outputs": [],
   "source": [
    "import matplotlib.pyplot as plt\n",
    "import pandas as pd\n",
    "from sklearn import linear_model\n",
    "from sklearn import datasets\n",
    "from yellowbrick.target import FeatureCorrelation\n",
    "import seaborn as sns\n",
    "from datetime import datetime"
   ]
  },
  {
   "attachments": {},
   "cell_type": "markdown",
   "metadata": {},
   "source": [
    "Najprej uvozimo podatke, ki jih preberemo iz dveh .csv datotek in shranimo v pandas dataframe. Poimenujemo ga kar df."
   ]
  },
  {
   "cell_type": "code",
   "execution_count": 43,
   "metadata": {},
   "outputs": [
    {
     "data": {
      "text/html": [
       "<div>\n",
       "<style scoped>\n",
       "    .dataframe tbody tr th:only-of-type {\n",
       "        vertical-align: middle;\n",
       "    }\n",
       "\n",
       "    .dataframe tbody tr th {\n",
       "        vertical-align: top;\n",
       "    }\n",
       "\n",
       "    .dataframe thead th {\n",
       "        text-align: right;\n",
       "    }\n",
       "</style>\n",
       "<table border=\"1\" class=\"dataframe\">\n",
       "  <thead>\n",
       "    <tr style=\"text-align: right;\">\n",
       "      <th></th>\n",
       "      <th>categories</th>\n",
       "      <th>summary</th>\n",
       "    </tr>\n",
       "    <tr>\n",
       "      <th>audiobook_id</th>\n",
       "      <th></th>\n",
       "      <th></th>\n",
       "    </tr>\n",
       "  </thead>\n",
       "  <tbody>\n",
       "    <tr>\n",
       "      <th>B09RQ4HRHN</th>\n",
       "      <td>Arts &amp; Entertainment</td>\n",
       "      <td>The beloved star of Friends takes us behind th...</td>\n",
       "    </tr>\n",
       "    <tr>\n",
       "      <th>B09SBP7MWN</th>\n",
       "      <td>Romance</td>\n",
       "      <td>Lily and her ex-husband, Ryle, have just settl...</td>\n",
       "    </tr>\n",
       "    <tr>\n",
       "      <th>B09R62PV4B</th>\n",
       "      <td>Mystery, Thriller &amp; Suspense</td>\n",
       "      <td>Charlie Reade looks like a regular high school...</td>\n",
       "    </tr>\n",
       "    <tr>\n",
       "      <th>B09VHWHJS2</th>\n",
       "      <td>Biographies &amp; Memoirs</td>\n",
       "      <td>Jennette McCurdy was six years old when she ha...</td>\n",
       "    </tr>\n",
       "    <tr>\n",
       "      <th>1524779261</th>\n",
       "      <td>Business &amp; Careers</td>\n",
       "      <td>No matter your goals, Atomic Habits offers a p...</td>\n",
       "    </tr>\n",
       "  </tbody>\n",
       "</table>\n",
       "</div>"
      ],
      "text/plain": [
       "                                categories  \\\n",
       "audiobook_id                                 \n",
       "B09RQ4HRHN            Arts & Entertainment   \n",
       "B09SBP7MWN                         Romance   \n",
       "B09R62PV4B    Mystery, Thriller & Suspense   \n",
       "B09VHWHJS2           Biographies & Memoirs   \n",
       "1524779261              Business & Careers   \n",
       "\n",
       "                                                        summary  \n",
       "audiobook_id                                                     \n",
       "B09RQ4HRHN    The beloved star of Friends takes us behind th...  \n",
       "B09SBP7MWN    Lily and her ex-husband, Ryle, have just settl...  \n",
       "B09R62PV4B    Charlie Reade looks like a regular high school...  \n",
       "B09VHWHJS2    Jennette McCurdy was six years old when she ha...  \n",
       "1524779261    No matter your goals, Atomic Habits offers a p...  "
      ]
     },
     "execution_count": 43,
     "metadata": {},
     "output_type": "execute_result"
    }
   ],
   "source": [
    "df_1 = pd.read_csv(\".\\\\audiobooks.csv\")\n",
    "df_2 = pd.read_csv(\".\\\\audiobooks_2.csv\")\n",
    "df = df_1.merge(df_2, on='audiobook_id').set_index('audiobook_id').drop(\"Unnamed: 0_x\",axis=1)[['categories', 'summary']].dropna()\n",
    "\n",
    "df.head()"
   ]
  },
  {
   "cell_type": "code",
   "execution_count": 44,
   "metadata": {},
   "outputs": [],
   "source": [
    "def root(word):\n",
    "    word = ''.join(i for i in word if i.isalpha())\n",
    "    if not word:\n",
    "        return '$'\n",
    "    end = len(word) - 1\n",
    "    if word[end] in 'ds':\n",
    "        end -= 1\n",
    "    while end >= 0 and word[end] in 'aeiou':\n",
    "        end -= 1\n",
    "    return word[:end + 1]\n",
    "\n",
    "def lexical_roots(string):\n",
    "    return pd.Series(sorted({\n",
    "        root(word) for word in string.strip(\"'.,\").replace('-', ' ').lower().split() if word\n",
    "    }))"
   ]
  },
  {
   "cell_type": "code",
   "execution_count": 45,
   "metadata": {},
   "outputs": [],
   "source": [
    "cat_df = df[['categories', 'summary']][:535].reset_index()\n",
    "category_prob = cat_df.groupby('categories').size() / len(df)\n",
    "book_roots = df.summary.apply(\n",
    "    lexical_roots\n",
    ").stack(\n",
    ").reset_index(\n",
    "    level='audiobook_id'\n",
    ").rename(columns={\n",
    "    'audiobook_id': 'audiobook_id',\n",
    "    0: 'root',\n",
    "})\n",
    "cat_roots = pd.merge(\n",
    "    book_roots,\n",
    "    cat_df\n",
    ")[['root', 'categories']]\n",
    "roots_df = pd.crosstab(cat_roots.root, cat_roots.categories)\n",
    "cat_root_prob_df = roots_df / cat_df.groupby('categories').size() + 0.001"
   ]
  },
  {
   "cell_type": "code",
   "execution_count": 46,
   "metadata": {},
   "outputs": [],
   "source": [
    "def predict_categories(summary):\n",
    "    factors = category_prob * cat_root_prob_df[\n",
    "        cat_root_prob_df.index.isin(\n",
    "            lexical_roots(summary)\n",
    "        )\n",
    "    ].prod()\n",
    "    factors /= max(factors)\n",
    "    return factors.sort_values(ascending=False)"
   ]
  },
  {
   "attachments": {},
   "cell_type": "markdown",
   "metadata": {},
   "source": [
    "Če si pogledamo, kaj nam vrne funkcija predict_categories:"
   ]
  },
  {
   "cell_type": "code",
   "execution_count": 58,
   "metadata": {},
   "outputs": [
    {
     "data": {
      "text/plain": [
       "categories\n",
       "Science Fiction & Fantasy                          1.000000e+00\n",
       "Business & Careers                                 8.325207e-01\n",
       "Literature & Fiction                               2.468731e-01\n",
       "Health & Wellness                                  4.866677e-05\n",
       "Biographies & Memoirs                              1.996715e-07\n",
       "Romance                                            8.844512e-08\n",
       "Mystery, Thriller & Suspense                       1.843687e-09\n",
       "Teen & Young Adult                                 1.550756e-11\n",
       "Religion & Spirituality                            3.156123e-13\n",
       "Relationships, Parenting & Personal Development    2.097141e-14\n",
       "History                                            5.857204e-15\n",
       "Money & Finance                                    3.512636e-21\n",
       "Politics & Social Sciences                         4.315861e-22\n",
       "LGBTQ+                                             3.705254e-23\n",
       "Children\\'s Audiobooks                             2.862805e-25\n",
       "Arts & Entertainment                               6.988723e-27\n",
       "Education & Learning                               1.848443e-27\n",
       "Comedy & Humor                                     9.323290e-40\n",
       "Erotica                                            9.295376e-49\n",
       "Science & Engineering                              9.286090e-52\n",
       "dtype: float64"
      ]
     },
     "execution_count": 58,
     "metadata": {},
     "output_type": "execute_result"
    }
   ],
   "source": [
    "predict_categories(\"No grammar tests. No memory drills. No chance of failure. Welcome to Learn with Paul Noble – a unique, tried and tested language learning method that has been used by almost a million people to speak fluently and confidently in no time at all. This course covers European and Latin American Spanish. Take a simple, relaxed approach to learning a language that has been proven to succeed every time. Unlike more traditional language learning courses, Paul Noble’s unique method has no grammar tests, no memory drills and no chance of failure.\")"
   ]
  },
  {
   "attachments": {},
   "cell_type": "markdown",
   "metadata": {},
   "source": [
    "Sestavimo nov dataframe poimenovan predictions_df. Predstavlja preostalih 30% podatkov, ki jih še nismo uporabili. Za vsako knjigo podamo kategorijo, kateri pripada, nato pa še dve kategoriji, ki jih naš algoritem izbere za najbolj verjetni.\n",
    "Že na prvi pogled izgleda da naš algoritem ni najbolj natančen. Poleg tega, da smo ga res zelo poenostavili, k temu prispeva tudi tako majhna količina podatkov, na katerih smo model sestavili. Če bi imeli na razpolago več avdioknjig, bi bil tudi model boljši.\n",
    "Natančnost še zares izračunajmo. Za vsako avdioknjigo izračunajmo uspeh, torej verjetnost, da pripada pravi kategoriji deljimo z vsoto  vvrednosti vseh kategorij. Nato pa vzamemo še povprečje izračunov od vseh testiranih avdioknjig."
   ]
  },
  {
   "cell_type": "code",
   "execution_count": 52,
   "metadata": {},
   "outputs": [
    {
     "data": {
      "text/html": [
       "<div>\n",
       "<style scoped>\n",
       "    .dataframe tbody tr th:only-of-type {\n",
       "        vertical-align: middle;\n",
       "    }\n",
       "\n",
       "    .dataframe tbody tr th {\n",
       "        vertical-align: top;\n",
       "    }\n",
       "\n",
       "    .dataframe thead th {\n",
       "        text-align: right;\n",
       "    }\n",
       "</style>\n",
       "<table border=\"1\" class=\"dataframe\">\n",
       "  <thead>\n",
       "    <tr style=\"text-align: right;\">\n",
       "      <th></th>\n",
       "      <th>audiobook_id</th>\n",
       "      <th>categories</th>\n",
       "      <th>summary</th>\n",
       "      <th>prediction</th>\n",
       "    </tr>\n",
       "  </thead>\n",
       "  <tbody>\n",
       "    <tr>\n",
       "      <th>0</th>\n",
       "      <td>B07MFZRNGL</td>\n",
       "      <td>Teen &amp; Young Adult</td>\n",
       "      <td>Nikolai Lantsov has always had a gift for the ...</td>\n",
       "      <td>5.168930e-21</td>\n",
       "    </tr>\n",
       "    <tr>\n",
       "      <th>1</th>\n",
       "      <td>0593349016</td>\n",
       "      <td>Biographies &amp; Memoirs</td>\n",
       "      <td>An enthralling account of a modern voyage of d...</td>\n",
       "      <td>1.406146e-06</td>\n",
       "    </tr>\n",
       "    <tr>\n",
       "      <th>2</th>\n",
       "      <td>B085VCZ9PZ</td>\n",
       "      <td>Mystery, Thriller &amp; Suspense</td>\n",
       "      <td>A centuries-old skeleton is discovered in a lo...</td>\n",
       "      <td>1.601232e-02</td>\n",
       "    </tr>\n",
       "    <tr>\n",
       "      <th>3</th>\n",
       "      <td>B01JKDTP26</td>\n",
       "      <td>Literature &amp; Fiction</td>\n",
       "      <td>Ruth Jefferson is a labor and delivery nurse a...</td>\n",
       "      <td>9.999997e-01</td>\n",
       "    </tr>\n",
       "    <tr>\n",
       "      <th>4</th>\n",
       "      <td>B0B2HTH27Y</td>\n",
       "      <td>Relationships, Parenting &amp; Personal Development</td>\n",
       "      <td>We’re never going to be able to prevent people...</td>\n",
       "      <td>3.338379e-06</td>\n",
       "    </tr>\n",
       "    <tr>\n",
       "      <th>...</th>\n",
       "      <td>...</td>\n",
       "      <td>...</td>\n",
       "      <td>...</td>\n",
       "      <td>...</td>\n",
       "    </tr>\n",
       "    <tr>\n",
       "      <th>225</th>\n",
       "      <td>B0BK2RGQBT</td>\n",
       "      <td>Biographies &amp; Memoirs</td>\n",
       "      <td>When Michael Cohen's secret payoff to porn sta...</td>\n",
       "      <td>8.117024e-01</td>\n",
       "    </tr>\n",
       "    <tr>\n",
       "      <th>226</th>\n",
       "      <td>B09V1X64YV</td>\n",
       "      <td>Science Fiction &amp; Fantasy</td>\n",
       "      <td>For years, the ancient alien AI known as Skipp...</td>\n",
       "      <td>9.999430e-01</td>\n",
       "    </tr>\n",
       "    <tr>\n",
       "      <th>227</th>\n",
       "      <td>0062963708</td>\n",
       "      <td>Literature &amp; Fiction</td>\n",
       "      <td>At the end of the Second World War, Cyril Conr...</td>\n",
       "      <td>9.978186e-01</td>\n",
       "    </tr>\n",
       "    <tr>\n",
       "      <th>228</th>\n",
       "      <td>1250752337</td>\n",
       "      <td>Mystery, Thriller &amp; Suspense</td>\n",
       "      <td>One night, Molly Clarke walked away from her l...</td>\n",
       "      <td>2.554186e-07</td>\n",
       "    </tr>\n",
       "    <tr>\n",
       "      <th>229</th>\n",
       "      <td>B09LVXS3L4</td>\n",
       "      <td>Health &amp; Wellness</td>\n",
       "      <td>The Real Anthony Fauci details how Fauci, Gate...</td>\n",
       "      <td>3.127906e-05</td>\n",
       "    </tr>\n",
       "  </tbody>\n",
       "</table>\n",
       "<p>230 rows × 4 columns</p>\n",
       "</div>"
      ],
      "text/plain": [
       "    audiobook_id                                       categories  \\\n",
       "0     B07MFZRNGL                               Teen & Young Adult   \n",
       "1     0593349016                            Biographies & Memoirs   \n",
       "2     B085VCZ9PZ                     Mystery, Thriller & Suspense   \n",
       "3     B01JKDTP26                             Literature & Fiction   \n",
       "4     B0B2HTH27Y  Relationships, Parenting & Personal Development   \n",
       "..           ...                                              ...   \n",
       "225   B0BK2RGQBT                            Biographies & Memoirs   \n",
       "226   B09V1X64YV                        Science Fiction & Fantasy   \n",
       "227   0062963708                             Literature & Fiction   \n",
       "228   1250752337                     Mystery, Thriller & Suspense   \n",
       "229   B09LVXS3L4                                Health & Wellness   \n",
       "\n",
       "                                               summary    prediction  \n",
       "0    Nikolai Lantsov has always had a gift for the ...  5.168930e-21  \n",
       "1    An enthralling account of a modern voyage of d...  1.406146e-06  \n",
       "2    A centuries-old skeleton is discovered in a lo...  1.601232e-02  \n",
       "3    Ruth Jefferson is a labor and delivery nurse a...  9.999997e-01  \n",
       "4    We’re never going to be able to prevent people...  3.338379e-06  \n",
       "..                                                 ...           ...  \n",
       "225  When Michael Cohen's secret payoff to porn sta...  8.117024e-01  \n",
       "226  For years, the ancient alien AI known as Skipp...  9.999430e-01  \n",
       "227  At the end of the Second World War, Cyril Conr...  9.978186e-01  \n",
       "228  One night, Molly Clarke walked away from her l...  2.554186e-07  \n",
       "229  The Real Anthony Fauci details how Fauci, Gate...  3.127906e-05  \n",
       "\n",
       "[230 rows x 4 columns]"
      ]
     },
     "execution_count": 52,
     "metadata": {},
     "output_type": "execute_result"
    }
   ],
   "source": [
    "predictions_df = df[['categories','summary']][535:].reset_index()\n",
    "def prediction_score(summary, category):\n",
    "    prediction_table = predict_categories(summary)\n",
    "    if category not in prediction_table.index:\n",
    "        return 0\n",
    "    n =  prediction_table[category]\n",
    "    return n/(sum(prediction_table))\n",
    "\n",
    "predictions_df['prediction'] = predictions_df.apply(lambda x: prediction_score(x['summary'],x['categories']), axis=1)\n",
    "predictions_df"
   ]
  },
  {
   "cell_type": "code",
   "execution_count": 57,
   "metadata": {},
   "outputs": [
    {
     "data": {
      "text/plain": [
       "0.4604782962731438"
      ]
     },
     "execution_count": 57,
     "metadata": {},
     "output_type": "execute_result"
    }
   ],
   "source": [
    "def model_score(df):\n",
    "    return df['prediction'].sum()/(len(df))\n",
    "model_score(predictions_df)"
   ]
  }
 ],
 "metadata": {
  "kernelspec": {
   "display_name": "base",
   "language": "python",
   "name": "python3"
  },
  "language_info": {
   "codemirror_mode": {
    "name": "ipython",
    "version": 3
   },
   "file_extension": ".py",
   "mimetype": "text/x-python",
   "name": "python",
   "nbconvert_exporter": "python",
   "pygments_lexer": "ipython3",
   "version": "3.9.7"
  },
  "orig_nbformat": 4,
  "vscode": {
   "interpreter": {
    "hash": "722609cc5c12623cd87340fba0d40d998005e6f79e68779b6429c51a32666f3f"
   }
  }
 },
 "nbformat": 4,
 "nbformat_minor": 2
}
